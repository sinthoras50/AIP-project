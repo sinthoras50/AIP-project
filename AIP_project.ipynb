{
  "nbformat": 4,
  "nbformat_minor": 0,
  "metadata": {
    "colab": {
      "provenance": [],
      "authorship_tag": "ABX9TyOsbm7W7IJl1e3su7VxxL1M",
      "include_colab_link": true
    },
    "kernelspec": {
      "name": "python3",
      "display_name": "Python 3"
    },
    "language_info": {
      "name": "python"
    }
  },
  "cells": [
    {
      "cell_type": "markdown",
      "metadata": {
        "id": "view-in-github",
        "colab_type": "text"
      },
      "source": [
        "<a href=\"https://colab.research.google.com/github/sinthoras50/AIP-project/blob/main/AIP_project.ipynb\" target=\"_parent\"><img src=\"https://colab.research.google.com/assets/colab-badge.svg\" alt=\"Open In Colab\"/></a>"
      ]
    },
    {
      "cell_type": "code",
      "execution_count": 1,
      "metadata": {
        "id": "2fAVC9zP_rIS"
      },
      "outputs": [],
      "source": [
        "import cv2\n",
        "import numpy as np\n",
        "from matplotlib import pyplot as plt"
      ]
    },
    {
      "cell_type": "code",
      "source": [
        "def segment_k_means(img, k, conversion=None, position_w=0):\n",
        "    criteria = (cv2.TERM_CRITERIA_EPS + cv2.TERM_CRITERIA_MAX_ITER, 100, 0.2)\n",
        "\n",
        "    if conversion is not None:\n",
        "        img = cv2.cvtColor(img, conversion)\n",
        "\n",
        "    img = np.float32(img)\n",
        "\n",
        "    h, w = img.shape[:2]\n",
        "    print(h, w)\n",
        "\n",
        "    reshaped = img.reshape((-1,3))\n",
        "\n",
        "    if position_w > 0:\n",
        "      x, y = np.mgrid[0:h, 0:w]\n",
        "      x = x.reshape((-1, 1))\n",
        "      y = y.reshape((-1, 1))\n",
        "      stacked = np.column_stack((x, y)).astype(np.float32)\n",
        "      reshaped = np.column_stack((reshaped, stacked * position_w)).astype(np.float32)\n",
        "\n",
        "    _, labels, centers = cv2.kmeans(reshaped, k, None, criteria, 3, cv2.KMEANS_RANDOM_CENTERS)\n",
        "\n",
        "    segmentation = labels.reshape((h, w))\n",
        "\n",
        "    return segmentation"
      ],
      "metadata": {
        "id": "HmXzEM2KHp2R"
      },
      "execution_count": null,
      "outputs": []
    }
  ]
}